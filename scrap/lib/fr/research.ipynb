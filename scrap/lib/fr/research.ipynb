{
 "cells": [
  {
   "cell_type": "code",
   "execution_count": 10,
   "metadata": {},
   "outputs": [],
   "source": [
    "from selenium import webdriver\n",
    "from selenium.webdriver.common.by import By\n",
    "from selenium.webdriver.support.ui import WebDriverWait\n",
    "from selenium.webdriver.support import expected_conditions as EC\n",
    "from selenium.webdriver.chrome.options import Options\n",
    "import time\n",
    "import pandas as pd\n",
    "import os\n",
    "import sys"
   ]
  },
  {
   "cell_type": "code",
   "execution_count": 11,
   "metadata": {},
   "outputs": [],
   "source": [
    "# fr_config.py\n",
    "# juste année, epreuve sexe"
   ]
  },
  {
   "cell_type": "code",
   "execution_count": 33,
   "metadata": {},
   "outputs": [],
   "source": [
    "# fr_scraper.py\n",
    "class FrScraper:\n",
    "    \n",
    "    '''\n",
    "    class FrScraper\n",
    "    \n",
    "    defines scrater instance for French Athletics results database\n",
    "    '''\n",
    "    \n",
    "    def __init__(self, jobs, url, driver_path, dest):\n",
    "        \n",
    "        '''\n",
    "        [...]\n",
    "        '''\n",
    "        \n",
    "        self.url = url\n",
    "        self.jobs = jobs\n",
    "        self.dest = dest\n",
    "        \n",
    "        self.sleep_time = 0.2\n",
    "        self.max_retries = 7\n",
    "        \n",
    "        driver_path = os.path.join('.', driver_path)\n",
    "        \n",
    "#        chrome_options = Options()  \n",
    "#         chrome_options.add_argument(\"--headless\")\n",
    "#         chrome_options.add_argument(\"--window-size=900,1200\")\n",
    "#         chrome_options.add_argument(\"--log-level=3\")\n",
    "\n",
    "        print('\\nConnecting ...\\n')\n",
    "        self.driver = webdriver.Chrome(executable_path=driver_path)#, options=chrome_options)\n",
    "    \n",
    "    def scrap(self):\n",
    "        \n",
    "        self.driver.get(self.url)\n",
    "        \n",
    "        selectors = self.driver.find_elements_by_tag_name(\"select\")\n",
    "        \n",
    "        print([s.text for s in selectors])"
   ]
  },
  {
   "cell_type": "code",
   "execution_count": 34,
   "metadata": {},
   "outputs": [],
   "source": [
    "# fr_options\n",
    "class Opt:\n",
    "    \n",
    "    def __init__(self):\n",
    "        \n",
    "        athl_root = '/home/eliot/Documents/nvme/athl/'\n",
    "        self.dest = os.path.join(athl_root, os.path.join('data', 'ch'))\n",
    "        self.driver = os.path.join(athl_root, os.path.join('scrap', 'chromedriver'))\n",
    "        \n",
    "        self.jobs = []\n",
    "        self.url = 'https://bases.athle.fr/asp.net/accueil.aspx?frmpostback=false&frmbase=bilans&frmmode=1&frmespace=0&frmannee=&frmepreuve=&frmcategorie=&frmsexe=&frmnationalite=&frmamini=&frmamaxi=&frmligue=&frmdepartement=&frmclub=&frmvent=&frmathlerama=&frmfcompetition=&frmfepreuve=&frmplaces='"
   ]
  },
  {
   "cell_type": "code",
   "execution_count": 35,
   "metadata": {},
   "outputs": [
    {
     "name": "stdout",
     "output_type": "stream",
     "text": [
      "\n",
      "Connecting ...\n",
      "\n",
      "['Choisissez ...\\n2021\\n2020\\n2019\\n2018\\n2017\\n2016\\n2015\\n2014\\n2013\\n2012\\n2011\\n2010\\n2009\\n2008\\n2007\\n2006\\n2005\\n2004', 'Choisissez ...\\n50m\\n50m - Salle\\n60m\\n60m - Salle\\n80m\\n100m\\n120m\\n200m\\n200m - Salle\\n300m\\n300m - Salle\\n400m\\n400m - Salle\\n800m\\n800m - Salle\\n1 000m\\n1 000m - Salle\\n1 500m\\n1 500m - Salle\\nMile - Salle\\nMile\\n2 000m\\n2 000m - Salle\\n3 000m\\n3 000m - Salle\\n5 000m\\n5 000m - Salle\\n5 km Route\\n10 000m\\n10 Km Route\\n15 Km Route\\n20 Km Route\\n20 000m\\n1/2 Marathon\\n25 Km Route\\n30 Minutes\\n45 Minutes\\nHeure Piste\\n50km Route\\nMarathon\\nEkiden\\n24 Heures\\n100 Km Route\\n50m Haies (76)\\n50m Haies (76)-Salle\\n50m Haies (84)-Salle\\n50m Haies (91)-Salle\\n50m Haies(106)-Salle\\n60m Haies (76)-Salle\\n60m Haies (84)-Salle\\n60m Haies (91)-Salle\\n80m Haies (76)\\n60m Haies(106)-Salle\\n100m Haies (84)\\n100m Haies (76)\\n110m Haies (91)\\n110m Haies (106)\\n80m Haies (69) \\n110m Haies (99)\\n50m Haies (99)-Salle\\n60m Haies (99)-Salle\\n60m Haies (69)-Salle\\n80m Haies (84)\\n100m Haies (91)\\n200m Haies (76)\\n50m Haies (69)-Salle\\n320m Haies (84)\\n320m Haies (76)\\n400m Haies (76)\\n400m Haies (84)\\n400m Haies (91)\\n300m Haies (76)\\n300m Haies (69)\\n60m haies (76)\\n60m haies (84)\\n60m haies (91)\\n60m haies (99)\\n60m haies (106)\\n1500m Steeple (76)\\n1500m Steeple (91)\\n2000m Steeple (76)\\n2000m Steeple (91)\\n2000m Steeple (84) \\n3000m Steeple (91)\\n3000m Steeple (76)\\nHauteur\\nPerche\\nLongueur\\nTriple saut\\nHauteur - Salle\\nPerche - Salle\\nLongueur - Salle\\nTriple saut - Salle\\nPoids (2 kg)\\nPoids (3 kg)\\nPoids (4 kg)\\nPoids (5 kg)\\nPoids (6 kg)\\nPoids (7.26 kg)\\nDisque (0.8 kg)\\nDisque (1.0 kg)\\nDisque (1.2 kg)\\nDisque (1.5 kg)\\nDisque (1.75 kg)\\nDisque (2.0 kg)\\nMarteau (2 kg)\\nMarteau (3 kg)\\nMarteau (4 kg)\\nMarteau (5 kg)\\nMarteau (6 kg)\\nMarteau (7.26 kg)\\nJavelot (400 g)\\nJavelot (500 g)\\nPoids (2 kg) - Salle\\nPoids (3 kg) - Salle\\nPoids (4 kg) - Salle\\nPoids (5 kg) - Salle\\nPoids (6 kg) - Salle\\nPoids (7 kg) - Salle\\nJavelot (600 g)\\nJavelot (700 g)\\nJavelot (800 g)\\nMarteau Lourd (4kg)\\nMarteau Lourd (5kg) \\nMarteau Lourd (7kg) \\nMarteau Lourd (9kg) \\nMarteau Lourd (11kg) \\nMarteau Lourd (15kg) \\nTriathlon table 2009\\nTetrathlon Jav. BF\\nTetrathlon Disque BM\\nHexathlon MH\\nHeptathlon CF (J600)\\nHexathlon MF\\nEnneathlon\\nDecathlon SH\\nTétrathlon Disque BF\\nTriathlon table 2009 - Salle\\nTetrathlon CF -Salle\\nPentathlon JSF-Salle\\nPentathlon CH-Salle\\nHeptathlon SH-Salle\\nHeptathlon JSF\\nPentathlon ESH-Salle\\nPentathlon JH-Salle\\nDecathlon VH\\nHeptathlon JH-Salle\\nPentathlon CF-Salle\\nHeptathlon CH-Salle\\nHeptathlon MF\\nOctathlon MH\\nTetrathlon Jav. BM\\nDecathlon JH\\nDecathlon CH\\nDecathlon JSF\\nPenta MF-Salle\\nPenta Lg MH-Salle\\nPenta Pch MH-Salle\\nHepta. 50m JH -Salle\\nHepta. 50m CH -Salle\\nPenta VF 35\\nPenta VF 40\\nPenta VF 50\\nPenta VF 60\\nHepta VF\\nHepta VF 50\\nHepta VF 60\\nDeca VH 50\\nDeca VH 60\\nDeca VH 70\\nDeca VH 80\\nPenta VH\\nPenta VH 50\\nPenta VH 60\\nPenta VH 70\\nPenta VH 80\\nPenta (4kg) CVF-Salle\\nPenta VF 50 salle\\nPenta VF 60 salle\\nPenta VH salle\\nPenta VH 50 salle\\nPenta VH 60 salle\\nHepta VH 80 salle\\nDécathlon CF (J6P4)\\nHepta. CF (pds 4kg)\\nHepta. 50m SH -Salle\\nHepta VF 60\\nPenta. 50 CF - Salle\\nPenta. 50 JFS -salle\\nPenta. 50 CM - salle\\nHeptathlon CF\\nDécathlon CF\\nPenta. 50 SH - salle\\nPenta. 50 JH - salle\\nPentaLancers VM\\nPentaLancers V50\\nPentaLancers V60\\nPentaLancers V70\\nPentaLancers V80\\nPentaLancers VF\\nPentaLancers VF50\\nPentaLancers V60\\nTriathlon Table 2017\\nTriathlon - Salle Table 2017\\nTriathlon\\nPentaLancers VF75\\nTriathlon - Salle\\n4 X 60m\\n4 X 100m\\n4x110m Haies mixte\\n4 X 200m\\n4 X 200m - salle\\n4 X 400m\\n4 X 400m - salle\\n4 x 60m mixte\\n4 X 800m\\n4 X 1 000m\\n4 X 1 500m\\nRelais Medley Sprint (100-200-300-400)\\nRelais Medley Long (1200-400-800-1600)\\n800m-200m-200m-800m\\n2 000m Marche\\n3 000m Marche\\n5 000m Marche\\n5 Km Marche Route\\n10 000m Marche\\n10 Km Marche Route\\n20 Minutes Marche\\n30 Minutes Marche\\n45 Minutes Marche\\n2 000m Marche-Salle\\n3 000m Marche-Salle\\n5 000m Marche-Salle\\n1 Heure Marche\\n20 000m Marche\\n20 Km Marche Route\\n30 000m Marche\\n2 Heures Marche\\n50 000m Marche\\n50 Km Marche Route\\n100 Km Marche\\n170km marche\\n200km marche\\nGrand fond marche', 'Choisissez ...\\nMinimes\\nCadets\\nJuniors\\nEspoirs\\nSeniors\\nMasters', 'Choisissez ...\\nF\\nM', 'Choisissez ...\\nFrançais(es)\\nAutres Nationalités', 'Choisissez ...\\nVeuillez spécifier [Année] ...', 'Choisissez ...\\n001\\n002\\n003\\n004\\n005\\n006\\n007\\n008\\n009\\n010\\n011\\n012\\n013\\n014\\n015\\n016\\n017\\n018\\n019\\n021\\n022\\n023\\n024\\n025\\n026\\n027\\n028\\n029\\n030\\n031\\n032\\n033\\n034\\n035\\n036\\n037\\n038\\n039\\n040\\n041\\n042\\n043\\n044\\n045\\n046\\n047\\n048\\n049\\n050\\n051\\n052\\n053\\n054\\n055\\n056\\n057\\n058\\n059\\n060\\n061\\n062\\n063\\n064\\n065\\n066\\n067\\n068\\n069\\n070\\n071\\n072\\n073\\n074\\n075\\n076\\n077\\n078\\n079\\n080\\n081\\n082\\n083\\n084\\n085\\n086\\n087\\n088\\n089\\n090\\n091\\n092\\n093\\n094\\n095\\n201\\n202\\n971\\n972\\n973\\n974\\n975\\n976\\n981\\n983\\n986\\n987', 'Choisissez ...\\nVR\\nVF\\nNC', 'Choisissez ...\\nPar catégorie\\nToutes catégories', 'Choisissez ...\\nHors Stade\\nMarche Route\\nSalle\\nStade', 'Choisissez ...\\nCourse\\nEpreuves combinées\\nEpreuves multiples\\nHaies\\nLancer\\nMarche\\nSaut', 'Choisissez ...\\n10\\n20\\n30\\n40\\n50\\n100', '', '', '', '']\n"
     ]
    }
   ],
   "source": [
    "opt = Opt()\n",
    "scraper = FrScraper(jobs=opt.jobs,\n",
    "                    url=opt.url,\n",
    "                    driver_path=opt.driver,\n",
    "                    dest=opt.dest)\n",
    "scraper.scrap()"
   ]
  },
  {
   "cell_type": "code",
   "execution_count": null,
   "metadata": {},
   "outputs": [],
   "source": []
  },
  {
   "cell_type": "code",
   "execution_count": null,
   "metadata": {},
   "outputs": [],
   "source": []
  }
 ],
 "metadata": {
  "kernelspec": {
   "display_name": "Python [conda env:root] *",
   "language": "python",
   "name": "conda-root-py"
  },
  "language_info": {
   "codemirror_mode": {
    "name": "ipython",
    "version": 3
   },
   "file_extension": ".py",
   "mimetype": "text/x-python",
   "name": "python",
   "nbconvert_exporter": "python",
   "pygments_lexer": "ipython3",
   "version": "3.8.3"
  }
 },
 "nbformat": 4,
 "nbformat_minor": 4
}
